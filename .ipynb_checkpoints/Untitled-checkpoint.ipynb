{
 "cells": [
  {
   "cell_type": "code",
   "execution_count": null,
   "metadata": {},
   "outputs": [],
   "source": [
    "#!/usr/bin/env python\n",
    "# -*- coding: utf-8 -*-\n",
    "# @Time : 2019/11/24 9:35\n",
    "# @Author : Qi Meng\n",
    "# @File : auto.py\n",
    "\n",
    "import time\n",
    "from selenium import webdriver\n",
    "from pyquery import PyQuery as pq\n",
    "from selenium.webdriver.common.keys import Keys\n",
    "from selenium.webdriver.common.action_chains import ActionChains\n",
    "\n",
    "opt = webdriver.ChromeOptions()                 # 创建浏览器\n",
    "opt.headless = False\n",
    "\n",
    "driver = webdriver.Chrome(options=opt)          # 创建浏览器对象\n",
    "driver.maximize_window()                        # 最大化窗口\n",
    "\n",
    "driver.get('https://scholar.google.co.jp/')             # 打开网页\n",
    "time.sleep(1)\n",
    "\n",
    "driver.find_element_by_id('gs_hdr_tsi').send_keys(\"python\")    # 输入窗口\n",
    "driver.find_element_by_id('gs_hdr_tsb').click()                # 点击确定\n",
    "time.sleep(2)\n",
    "# html1 = driver.page_source       # 获取网站源码\n",
    "# data1 = str(pq(html1))\n",
    "# print(data1)\n",
    "\n",
    "num = 0\n",
    "flag = 0\n",
    "path = \"//div[@id='gs_res_ccl_mid']/div[@class='gs_r gs_or gs_scl'][@data-rp = '\" + str(num) + \"']//span[@class='gs_ctg2']\"\n",
    "print(path)\n",
    "try:\n",
    "    item = driver.find_element_by_xpath(path)\n",
    "except:\n",
    "    print(\"error\")\n",
    "    flag = 1\n",
    "    \n",
    "if flag == 0 and item.text == \"[PDF]\":\n",
    "    item.click()\n",
    "    time.sleep(2)\n",
    "    pyautogui.click()\n",
    "    pyautogui.hotkey('ctrl', 's')\n",
    "    pyautogui.press('enter')\n",
    "    time.sleep(1)\n",
    "else:\n",
    "    print(\"非pdf\")"
   ]
  },
  {
   "cell_type": "code",
   "execution_count": 92,
   "metadata": {},
   "outputs": [],
   "source": [
    "import pyautogui\n",
    "#保护措施，避免失控\n",
    "pyautogui.FAILSAFE = True\n",
    "#为所有的PyAutoGUI函数增加延迟。默认延迟时间是0.1秒。\n",
    "pyautogui.PAUSE = 0.5"
   ]
  },
  {
   "cell_type": "code",
   "execution_count": 108,
   "metadata": {},
   "outputs": [],
   "source": [
    "driver.back() #向后退"
   ]
  },
  {
   "cell_type": "code",
   "execution_count": 105,
   "metadata": {},
   "outputs": [],
   "source": [
    "driver.forward() #向后退"
   ]
  },
  {
   "cell_type": "code",
   "execution_count": 106,
   "metadata": {},
   "outputs": [
    {
     "name": "stdout",
     "output_type": "stream",
     "text": [
      "[PDF]\n"
     ]
    }
   ],
   "source": []
  }
 ],
 "metadata": {
  "kernelspec": {
   "display_name": "Python 3",
   "language": "python",
   "name": "python3"
  },
  "language_info": {
   "codemirror_mode": {
    "name": "ipython",
    "version": 3
   },
   "file_extension": ".py",
   "mimetype": "text/x-python",
   "name": "python",
   "nbconvert_exporter": "python",
   "pygments_lexer": "ipython3",
   "version": "3.8.0"
  }
 },
 "nbformat": 4,
 "nbformat_minor": 2
}
